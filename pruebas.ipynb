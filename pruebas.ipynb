{
 "cells": [
  {
   "cell_type": "code",
   "execution_count": 140,
   "metadata": {},
   "outputs": [],
   "source": [
    "pop = {}\n",
    "for y in years:\n",
    "    df_pop = pd.read_excel('raw_data/PBP_CO1025.xls',sheet_name=str(y))\n",
    "    pop[y] = df_pop.iloc[2,1]"
   ]
  },
  {
   "cell_type": "code",
   "execution_count": 141,
   "metadata": {},
   "outputs": [
    {
     "data": {
      "text/plain": [
       "{2016: 3059122,\n",
       " 2017: 3063728,\n",
       " 2018: 3068043,\n",
       " 2019: 3072029,\n",
       " 2020: 3075646,\n",
       " 2021: 3078836}"
      ]
     },
     "execution_count": 141,
     "metadata": {},
     "output_type": "execute_result"
    }
   ],
   "source": [
    "pop"
   ]
  },
  {
   "cell_type": "code",
   "execution_count": 144,
   "metadata": {},
   "outputs": [
    {
     "data": {
      "text/plain": [
       "array([146, 140, 149, 104,  81,  97])"
      ]
     },
     "execution_count": 144,
     "metadata": {},
     "output_type": "execute_result"
    }
   ],
   "source": [
    "v = df_hom['N_VICTIMAS'].groupby(df_hom['datetime'].dt.year).sum().values\n",
    "v"
   ]
  },
  {
   "cell_type": "code",
   "execution_count": 152,
   "metadata": {},
   "outputs": [
    {
     "data": {
      "text/plain": [
       "array([4.77261123, 4.56959626, 4.85651603, 3.38538471, 2.63359307,\n",
       "       3.15054131])"
      ]
     },
     "execution_count": 152,
     "metadata": {},
     "output_type": "execute_result"
    }
   ],
   "source": [
    "np.divide(v,np.array(list(pop.values())))*100000"
   ]
  },
  {
   "cell_type": "code",
   "execution_count": 149,
   "metadata": {},
   "outputs": [
    {
     "data": {
      "text/plain": [
       "[3059122, 3063728, 3068043, 3072029, 3075646, 3078836]"
      ]
     },
     "execution_count": 149,
     "metadata": {},
     "output_type": "execute_result"
    }
   ],
   "source": [
    "np.array(list(pop.values()))"
   ]
  },
  {
   "cell_type": "code",
   "execution_count": null,
   "metadata": {},
   "outputs": [],
   "source": [
    "df_hom['N_VICTIMAS'].groupby(df_hom['datetime'].dt.year).sum()[period]/pop[period]*100000"
   ]
  },
  {
   "cell_type": "code",
   "execution_count": 154,
   "metadata": {},
   "outputs": [],
   "source": [
    "RAHR = []\n",
    "for periodi in years:\n",
    "    rahr = df_hom['N_VICTIMAS'].groupby(df_hom['datetime'].dt.year).sum()[periodi]/pop[periodi]*100000\n",
    "    RAHR.append(rahr)\n",
    "objective = [-10] + (len(years)-2)*[np.nan] + [-10]\n",
    "df_homRateTime = pd.DataFrame({'Year':np.array(years).astype(str),'Homicide Rate':RAHR,'Objective':objective})\n",
    "df_homRateTime['HR Change %'] = df_homRateTime['Homicide Rate'].pct_change()*100"
   ]
  },
  {
   "cell_type": "code",
   "execution_count": 155,
   "metadata": {},
   "outputs": [
    {
     "data": {
      "text/html": [
       "<div>\n",
       "<style scoped>\n",
       "    .dataframe tbody tr th:only-of-type {\n",
       "        vertical-align: middle;\n",
       "    }\n",
       "\n",
       "    .dataframe tbody tr th {\n",
       "        vertical-align: top;\n",
       "    }\n",
       "\n",
       "    .dataframe thead th {\n",
       "        text-align: right;\n",
       "    }\n",
       "</style>\n",
       "<table border=\"1\" class=\"dataframe\">\n",
       "  <thead>\n",
       "    <tr style=\"text-align: right;\">\n",
       "      <th></th>\n",
       "      <th>Year</th>\n",
       "      <th>Homicide Rate</th>\n",
       "      <th>Objective</th>\n",
       "      <th>HR Change %</th>\n",
       "    </tr>\n",
       "  </thead>\n",
       "  <tbody>\n",
       "    <tr>\n",
       "      <th>0</th>\n",
       "      <td>2016</td>\n",
       "      <td>4.772611</td>\n",
       "      <td>-10.0</td>\n",
       "      <td>NaN</td>\n",
       "    </tr>\n",
       "    <tr>\n",
       "      <th>1</th>\n",
       "      <td>2017</td>\n",
       "      <td>4.569596</td>\n",
       "      <td>NaN</td>\n",
       "      <td>-4.253750</td>\n",
       "    </tr>\n",
       "    <tr>\n",
       "      <th>2</th>\n",
       "      <td>2018</td>\n",
       "      <td>4.856516</td>\n",
       "      <td>NaN</td>\n",
       "      <td>6.278887</td>\n",
       "    </tr>\n",
       "    <tr>\n",
       "      <th>3</th>\n",
       "      <td>2019</td>\n",
       "      <td>3.385385</td>\n",
       "      <td>NaN</td>\n",
       "      <td>-30.291907</td>\n",
       "    </tr>\n",
       "    <tr>\n",
       "      <th>4</th>\n",
       "      <td>2020</td>\n",
       "      <td>2.633593</td>\n",
       "      <td>NaN</td>\n",
       "      <td>-22.206978</td>\n",
       "    </tr>\n",
       "    <tr>\n",
       "      <th>5</th>\n",
       "      <td>2021</td>\n",
       "      <td>3.150541</td>\n",
       "      <td>-10.0</td>\n",
       "      <td>19.629010</td>\n",
       "    </tr>\n",
       "  </tbody>\n",
       "</table>\n",
       "</div>"
      ],
      "text/plain": [
       "   Year  Homicide Rate  Objective  HR Change %\n",
       "0  2016       4.772611      -10.0          NaN\n",
       "1  2017       4.569596        NaN    -4.253750\n",
       "2  2018       4.856516        NaN     6.278887\n",
       "3  2019       3.385385        NaN   -30.291907\n",
       "4  2020       2.633593        NaN   -22.206978\n",
       "5  2021       3.150541      -10.0    19.629010"
      ]
     },
     "execution_count": 155,
     "metadata": {},
     "output_type": "execute_result"
    }
   ],
   "source": [
    "df_homRateTime"
   ]
  },
  {
   "cell_type": "code",
   "execution_count": 156,
   "metadata": {},
   "outputs": [
    {
     "data": {
      "text/plain": [
       "datetime\n",
       "1     1\n",
       "2     2\n",
       "3     1\n",
       "4     2\n",
       "8     3\n",
       "10    2\n",
       "11    2\n",
       "12    3\n",
       "13    4\n",
       "14    4\n",
       "15    3\n",
       "16    1\n",
       "17    4\n",
       "18    1\n",
       "19    2\n",
       "20    3\n",
       "21    4\n",
       "22    3\n",
       "23    3\n",
       "24    2\n",
       "25    1\n",
       "26    1\n",
       "27    1\n",
       "28    4\n",
       "29    5\n",
       "30    2\n",
       "31    1\n",
       "Name: N_VICTIMAS, dtype: int64"
      ]
     },
     "execution_count": 156,
     "metadata": {},
     "output_type": "execute_result"
    }
   ],
   "source": [
    "df_homs = df_hom[df_hom['semester']=='2016_S1']\n",
    "df_homs['N_VICTIMAS'].groupby(df_homs['datetime'].dt.day).sum()"
   ]
  },
  {
   "cell_type": "code",
   "execution_count": null,
   "metadata": {},
   "outputs": [],
   "source": [
    "rahm = df_hom_mot['N_VICTIMAS'].groupby(df_hom_mot['datetime'].dt.year).sum()[period]"
   ]
  },
  {
   "cell_type": "code",
   "execution_count": null,
   "metadata": {},
   "outputs": [],
   "source": [
    "# Calculate RAHDT\n",
    "if type(period) == int:\n",
    "    rahdt = df_vic['hrsUntilDisease'].groupby(df_vic['datetime'].dt.year).mean()[period]/tunitsd[tunits]\n",
    "elif type(period) == str:\n",
    "    try:\n",
    "        rahdt = df_vic['hrsUntilDisease'].groupby(df_vic['semester']).mean()[period]/tunitsd[tunits]\n",
    "    except:\n",
    "        rahdt = df_vic['hrsUntilDisease'].mean()/tunitsd[tunits]"
   ]
  },
  {
   "cell_type": "code",
   "execution_count": 158,
   "metadata": {},
   "outputs": [
    {
     "data": {
      "text/plain": [
       "semester\n",
       "2016_S1    2.601783\n",
       "2016_S2    4.021436\n",
       "2017_S1    1.350023\n",
       "2017_S2    2.890867\n",
       "2018_S1    1.361546\n",
       "2018_S2    1.280632\n",
       "2019_S1    1.824659\n",
       "2019_S2    1.636094\n",
       "2020_S1    3.273734\n",
       "2020_S2    2.412673\n",
       "2021_S1    3.000884\n",
       "2021_S2    2.058603\n",
       "Name: hrsUntilDisease, dtype: float64"
      ]
     },
     "execution_count": 158,
     "metadata": {},
     "output_type": "execute_result"
    }
   ],
   "source": [
    "df_vic['hrsUntilDisease'].groupby(df_vic['semester']).mean()/24"
   ]
  },
  {
   "cell_type": "code",
   "execution_count": 159,
   "metadata": {},
   "outputs": [
    {
     "data": {
      "text/html": [
       "<div>\n",
       "<style scoped>\n",
       "    .dataframe tbody tr th:only-of-type {\n",
       "        vertical-align: middle;\n",
       "    }\n",
       "\n",
       "    .dataframe tbody tr th {\n",
       "        vertical-align: top;\n",
       "    }\n",
       "\n",
       "    .dataframe thead th {\n",
       "        text-align: right;\n",
       "    }\n",
       "</style>\n",
       "<table border=\"1\" class=\"dataframe\">\n",
       "  <thead>\n",
       "    <tr style=\"text-align: right;\">\n",
       "      <th></th>\n",
       "      <th>ID_hecho</th>\n",
       "      <th>ROL</th>\n",
       "      <th>VICTIMA</th>\n",
       "      <th>SEXO</th>\n",
       "      <th>EDAD</th>\n",
       "      <th>FECHA_FALLECIMIENTO</th>\n",
       "      <th>hrsUntilDisease</th>\n",
       "      <th>datetime</th>\n",
       "      <th>semester</th>\n",
       "    </tr>\n",
       "  </thead>\n",
       "  <tbody>\n",
       "    <tr>\n",
       "      <th>0</th>\n",
       "      <td>2016-0001</td>\n",
       "      <td>CONDUCTOR</td>\n",
       "      <td>MOTO</td>\n",
       "      <td>MASCULINO</td>\n",
       "      <td>19.0</td>\n",
       "      <td>2016-01-01 23:59:59.000000000</td>\n",
       "      <td>19.999722</td>\n",
       "      <td>2016-01-01 04:00:00.000000001</td>\n",
       "      <td>2016_S1</td>\n",
       "    </tr>\n",
       "    <tr>\n",
       "      <th>1</th>\n",
       "      <td>2016-0002</td>\n",
       "      <td>CONDUCTOR</td>\n",
       "      <td>AUTO</td>\n",
       "      <td>MASCULINO</td>\n",
       "      <td>70.0</td>\n",
       "      <td>2016-01-02 23:59:59.000000000</td>\n",
       "      <td>22.749722</td>\n",
       "      <td>2016-01-02 01:15:00.000000001</td>\n",
       "      <td>2016_S1</td>\n",
       "    </tr>\n",
       "    <tr>\n",
       "      <th>2</th>\n",
       "      <td>2016-0003</td>\n",
       "      <td>CONDUCTOR</td>\n",
       "      <td>MOTO</td>\n",
       "      <td>MASCULINO</td>\n",
       "      <td>30.0</td>\n",
       "      <td>2016-01-03 23:59:59.000000000</td>\n",
       "      <td>16.999722</td>\n",
       "      <td>2016-01-03 07:00:00.000000001</td>\n",
       "      <td>2016_S1</td>\n",
       "    </tr>\n",
       "    <tr>\n",
       "      <th>3</th>\n",
       "      <td>2016-0004</td>\n",
       "      <td>CONDUCTOR</td>\n",
       "      <td>MOTO</td>\n",
       "      <td>MASCULINO</td>\n",
       "      <td>18.0</td>\n",
       "      <td>2016-01-11 18:59:30.600924499</td>\n",
       "      <td>42.991834</td>\n",
       "      <td>2016-01-09 23:59:59.999999999</td>\n",
       "      <td>2016_S1</td>\n",
       "    </tr>\n",
       "    <tr>\n",
       "      <th>4</th>\n",
       "      <td>2016-0005</td>\n",
       "      <td>CONDUCTOR</td>\n",
       "      <td>MOTO</td>\n",
       "      <td>MASCULINO</td>\n",
       "      <td>29.0</td>\n",
       "      <td>2016-02-01 23:59:59.000000000</td>\n",
       "      <td>282.666389</td>\n",
       "      <td>2016-01-21 05:20:00.000000000</td>\n",
       "      <td>2016_S1</td>\n",
       "    </tr>\n",
       "    <tr>\n",
       "      <th>...</th>\n",
       "      <td>...</td>\n",
       "      <td>...</td>\n",
       "      <td>...</td>\n",
       "      <td>...</td>\n",
       "      <td>...</td>\n",
       "      <td>...</td>\n",
       "      <td>...</td>\n",
       "      <td>...</td>\n",
       "      <td>...</td>\n",
       "    </tr>\n",
       "    <tr>\n",
       "      <th>712</th>\n",
       "      <td>2021-0092</td>\n",
       "      <td>PEATON</td>\n",
       "      <td>PEATON</td>\n",
       "      <td>FEMENINO</td>\n",
       "      <td>50.0</td>\n",
       "      <td>2021-12-12 23:59:59.000000000</td>\n",
       "      <td>17.666389</td>\n",
       "      <td>2021-12-12 06:20:00.000000000</td>\n",
       "      <td>2021_S2</td>\n",
       "    </tr>\n",
       "    <tr>\n",
       "      <th>713</th>\n",
       "      <td>2021-0093</td>\n",
       "      <td>PASAJERO_ACOMPAÑANTE</td>\n",
       "      <td>MOTO</td>\n",
       "      <td>FEMENINO</td>\n",
       "      <td>18.0</td>\n",
       "      <td>2021-12-18 23:59:59.000000000</td>\n",
       "      <td>126.833056</td>\n",
       "      <td>2021-12-13 17:09:59.999999999</td>\n",
       "      <td>2021_S2</td>\n",
       "    </tr>\n",
       "    <tr>\n",
       "      <th>714</th>\n",
       "      <td>2021-0094</td>\n",
       "      <td>PASAJERO_ACOMPAÑANTE</td>\n",
       "      <td>MOTO</td>\n",
       "      <td>FEMENINO</td>\n",
       "      <td>43.0</td>\n",
       "      <td>2021-12-20 23:59:59.000000000</td>\n",
       "      <td>22.833056</td>\n",
       "      <td>2021-12-20 01:09:59.999999999</td>\n",
       "      <td>2021_S2</td>\n",
       "    </tr>\n",
       "    <tr>\n",
       "      <th>715</th>\n",
       "      <td>2021-0095</td>\n",
       "      <td>CONDUCTOR</td>\n",
       "      <td>MOTO</td>\n",
       "      <td>MASCULINO</td>\n",
       "      <td>27.0</td>\n",
       "      <td>2022-01-02 23:59:59.000000000</td>\n",
       "      <td>95.283056</td>\n",
       "      <td>2021-12-30 00:42:59.999999999</td>\n",
       "      <td>2021_S2</td>\n",
       "    </tr>\n",
       "    <tr>\n",
       "      <th>716</th>\n",
       "      <td>2021-0096</td>\n",
       "      <td>CONDUCTOR</td>\n",
       "      <td>AUTO</td>\n",
       "      <td>MASCULINO</td>\n",
       "      <td>60.0</td>\n",
       "      <td>2021-12-20 23:59:59.000000000</td>\n",
       "      <td>133.499722</td>\n",
       "      <td>2021-12-15 10:30:00.000000001</td>\n",
       "      <td>2021_S2</td>\n",
       "    </tr>\n",
       "  </tbody>\n",
       "</table>\n",
       "<p>717 rows × 9 columns</p>\n",
       "</div>"
      ],
      "text/plain": [
       "      ID_hecho                   ROL VICTIMA       SEXO  EDAD  \\\n",
       "0    2016-0001             CONDUCTOR    MOTO  MASCULINO  19.0   \n",
       "1    2016-0002             CONDUCTOR    AUTO  MASCULINO  70.0   \n",
       "2    2016-0003             CONDUCTOR    MOTO  MASCULINO  30.0   \n",
       "3    2016-0004             CONDUCTOR    MOTO  MASCULINO  18.0   \n",
       "4    2016-0005             CONDUCTOR    MOTO  MASCULINO  29.0   \n",
       "..         ...                   ...     ...        ...   ...   \n",
       "712  2021-0092                PEATON  PEATON   FEMENINO  50.0   \n",
       "713  2021-0093  PASAJERO_ACOMPAÑANTE    MOTO   FEMENINO  18.0   \n",
       "714  2021-0094  PASAJERO_ACOMPAÑANTE    MOTO   FEMENINO  43.0   \n",
       "715  2021-0095             CONDUCTOR    MOTO  MASCULINO  27.0   \n",
       "716  2021-0096             CONDUCTOR    AUTO  MASCULINO  60.0   \n",
       "\n",
       "              FECHA_FALLECIMIENTO  hrsUntilDisease  \\\n",
       "0   2016-01-01 23:59:59.000000000        19.999722   \n",
       "1   2016-01-02 23:59:59.000000000        22.749722   \n",
       "2   2016-01-03 23:59:59.000000000        16.999722   \n",
       "3   2016-01-11 18:59:30.600924499        42.991834   \n",
       "4   2016-02-01 23:59:59.000000000       282.666389   \n",
       "..                            ...              ...   \n",
       "712 2021-12-12 23:59:59.000000000        17.666389   \n",
       "713 2021-12-18 23:59:59.000000000       126.833056   \n",
       "714 2021-12-20 23:59:59.000000000        22.833056   \n",
       "715 2022-01-02 23:59:59.000000000        95.283056   \n",
       "716 2021-12-20 23:59:59.000000000       133.499722   \n",
       "\n",
       "                         datetime semester  \n",
       "0   2016-01-01 04:00:00.000000001  2016_S1  \n",
       "1   2016-01-02 01:15:00.000000001  2016_S1  \n",
       "2   2016-01-03 07:00:00.000000001  2016_S1  \n",
       "3   2016-01-09 23:59:59.999999999  2016_S1  \n",
       "4   2016-01-21 05:20:00.000000000  2016_S1  \n",
       "..                            ...      ...  \n",
       "712 2021-12-12 06:20:00.000000000  2021_S2  \n",
       "713 2021-12-13 17:09:59.999999999  2021_S2  \n",
       "714 2021-12-20 01:09:59.999999999  2021_S2  \n",
       "715 2021-12-30 00:42:59.999999999  2021_S2  \n",
       "716 2021-12-15 10:30:00.000000001  2021_S2  \n",
       "\n",
       "[717 rows x 9 columns]"
      ]
     },
     "execution_count": 159,
     "metadata": {},
     "output_type": "execute_result"
    }
   ],
   "source": [
    "df_vic"
   ]
  },
  {
   "cell_type": "code",
   "execution_count": 161,
   "metadata": {},
   "outputs": [],
   "source": [
    "df_sex = df_vic['SEXO'].groupby(df_vic['SEXO']).count()\n",
    "df_sex_f = pd.DataFrame({'SEXO':df_sex.index,'Homicides':df_sex.values})"
   ]
  },
  {
   "cell_type": "code",
   "execution_count": 162,
   "metadata": {},
   "outputs": [
    {
     "data": {
      "text/html": [
       "<div>\n",
       "<style scoped>\n",
       "    .dataframe tbody tr th:only-of-type {\n",
       "        vertical-align: middle;\n",
       "    }\n",
       "\n",
       "    .dataframe tbody tr th {\n",
       "        vertical-align: top;\n",
       "    }\n",
       "\n",
       "    .dataframe thead th {\n",
       "        text-align: right;\n",
       "    }\n",
       "</style>\n",
       "<table border=\"1\" class=\"dataframe\">\n",
       "  <thead>\n",
       "    <tr style=\"text-align: right;\">\n",
       "      <th></th>\n",
       "      <th>SEXO</th>\n",
       "      <th>Homicides</th>\n",
       "    </tr>\n",
       "  </thead>\n",
       "  <tbody>\n",
       "    <tr>\n",
       "      <th>0</th>\n",
       "      <td>FEMENINO</td>\n",
       "      <td>166</td>\n",
       "    </tr>\n",
       "    <tr>\n",
       "      <th>1</th>\n",
       "      <td>MASCULINO</td>\n",
       "      <td>545</td>\n",
       "    </tr>\n",
       "  </tbody>\n",
       "</table>\n",
       "</div>"
      ],
      "text/plain": [
       "        SEXO  Homicides\n",
       "0   FEMENINO        166\n",
       "1  MASCULINO        545"
      ]
     },
     "execution_count": 162,
     "metadata": {},
     "output_type": "execute_result"
    }
   ],
   "source": [
    "df_sex_f"
   ]
  },
  {
   "cell_type": "code",
   "execution_count": 163,
   "metadata": {},
   "outputs": [
    {
     "data": {
      "text/plain": [
       "711"
      ]
     },
     "execution_count": 163,
     "metadata": {},
     "output_type": "execute_result"
    }
   ],
   "source": [
    "166+545"
   ]
  },
  {
   "cell_type": "code",
   "execution_count": 164,
   "metadata": {},
   "outputs": [
    {
     "data": {
      "text/plain": [
       "0.23347398030942335"
      ]
     },
     "execution_count": 164,
     "metadata": {},
     "output_type": "execute_result"
    }
   ],
   "source": [
    "166/711"
   ]
  },
  {
   "cell_type": "code",
   "execution_count": null,
   "metadata": {},
   "outputs": [],
   "source": []
  }
 ],
 "metadata": {
  "kernelspec": {
   "display_name": "Python 3.11.5 64-bit",
   "language": "python",
   "name": "python3"
  },
  "language_info": {
   "codemirror_mode": {
    "name": "ipython",
    "version": 3
   },
   "file_extension": ".py",
   "mimetype": "text/x-python",
   "name": "python",
   "nbconvert_exporter": "python",
   "pygments_lexer": "ipython3",
   "version": "3.11.5"
  },
  "orig_nbformat": 4,
  "vscode": {
   "interpreter": {
    "hash": "b0fa6594d8f4cbf19f97940f81e996739fb7646882a419484c72d19e05852a7e"
   }
  }
 },
 "nbformat": 4,
 "nbformat_minor": 2
}
